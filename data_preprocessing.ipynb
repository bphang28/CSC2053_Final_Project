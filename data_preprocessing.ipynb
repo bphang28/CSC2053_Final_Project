{
 "cells": [
  {
   "cell_type": "code",
   "execution_count": 6,
   "metadata": {},
   "outputs": [
    {
     "name": "stderr",
     "output_type": "stream",
     "text": [
      "<>:6: SyntaxWarning: invalid escape sequence '\\P'\n",
      "<>:6: SyntaxWarning: invalid escape sequence '\\P'\n",
      "C:\\Users\\phang\\AppData\\Local\\Temp\\ipykernel_15624\\2906618348.py:6: SyntaxWarning: invalid escape sequence '\\P'\n",
      "  exasens_path = 'C:\\Platform_bases_computing\\Final_project\\Exasens.csv'  # Replace with your file path\n",
      "c:\\Users\\phang\\AppData\\Local\\Programs\\Python\\Python313\\Lib\\site-packages\\sklearn\\utils\\extmath.py:1137: RuntimeWarning: invalid value encountered in divide\n",
      "  updated_mean = (last_sum + new_sum) / updated_sample_count\n",
      "c:\\Users\\phang\\AppData\\Local\\Programs\\Python\\Python313\\Lib\\site-packages\\sklearn\\utils\\extmath.py:1142: RuntimeWarning: invalid value encountered in divide\n",
      "  T = new_sum / new_sample_count\n",
      "c:\\Users\\phang\\AppData\\Local\\Programs\\Python\\Python313\\Lib\\site-packages\\sklearn\\utils\\extmath.py:1162: RuntimeWarning: invalid value encountered in divide\n",
      "  new_unnormalized_variance -= correction**2 / new_sample_count\n"
     ]
    }
   ],
   "source": [
    "import pandas as pd\n",
    "from sklearn.preprocessing import StandardScaler, LabelEncoder\n",
    "from sklearn.model_selection import train_test_split\n",
    "\n",
    "# Load dataset\n",
    "exasens_path = 'C:\\Platform_bases_computing\\Final_project\\Exasens.csv'  # Replace with your file path\n",
    "exasens_df = pd.read_csv(exasens_path)\n",
    "\n",
    "# Select only numeric columns and fill missing values with their mean\n",
    "numeric_cols = exasens_df.select_dtypes(include=['float64', 'int64']).columns\n",
    "exasens_df[numeric_cols] = exasens_df[numeric_cols].fillna(exasens_df[numeric_cols].mean())\n",
    "\n",
    "# Alternatively, drop rows with missing values\n",
    "# exasens_df.dropna(inplace=True)\n",
    "\n",
    "\n",
    "# Encode categorical disease labels\n",
    "label_encoder = LabelEncoder()\n",
    "exasens_df['Diagnosis'] = label_encoder.fit_transform(exasens_df['Diagnosis'])\n",
    "\n",
    "# Normalize numerical features\n",
    "scaler = StandardScaler()\n",
    "numerical_cols = exasens_df.select_dtypes(include=['float64', 'int64']).columns\n",
    "exasens_df[numerical_cols] = scaler.fit_transform(exasens_df[numerical_cols])\n",
    "\n",
    "# Split into features and target\n",
    "X_exasens = exasens_df.drop('Diagnosis', axis=1)\n",
    "y_exasens = exasens_df['Diagnosis']\n",
    "\n",
    "# Train-test split\n",
    "X_train_exasens, X_test_exasens, y_train_exasens, y_test_exasens = train_test_split(X_exasens, y_exasens, test_size=0.3, random_state=42)\n"
   ]
  },
  {
   "cell_type": "code",
   "execution_count": null,
   "metadata": {},
   "outputs": [
    {
     "name": "stderr",
     "output_type": "stream",
     "text": [
      "<>:1: SyntaxWarning: invalid escape sequence '\\P'\n",
      "<>:1: SyntaxWarning: invalid escape sequence '\\P'\n",
      "C:\\Users\\phang\\AppData\\Local\\Temp\\ipykernel_15624\\2519445542.py:1: SyntaxWarning: invalid escape sequence '\\P'\n",
      "  acute_path = 'C:\\Platform_bases_computing\\Final_project\\diagnosis.data'  # Make sure the path is correct\n"
     ]
    }
   ],
   "source": [
    "# Loading the dataset\n",
    "\n",
    "acute_path = 'C:\\Platform_bases_computing\\Final_project\\diagnosis.data' \n",
    "acute_df = pd.read_csv(acute_path, sep='\\t', header=None, encoding='ISO-8859-1') \n",
    "\n",
    "# Assign meaningful column names if necessary\n",
    "acute_df.columns = ['temperature', 'nausea', 'lumbar_pain', 'urine_pushing', 'micturition_pains', 'burning_urethra', 'bladder_inflammation', 'nephritis']\n",
    "\n",
    "# Encode yes/no values to 1/0\n",
    "for col in ['nausea', 'lumbar_pain', 'urine_pushing', 'micturition_pains', 'burning_urethra', 'bladder_inflammation', 'nephritis']:\n",
    "    acute_df[col] = acute_df[col].map({'yes': 1, 'no': 0})\n",
    "\n",
    "# Split into features and targets\n",
    "X_acute = acute_df.drop(['bladder_inflammation', 'nephritis'], axis=1)\n",
    "y_acute_bl = acute_df['bladder_inflammation']\n",
    "y_acute_neph = acute_df['nephritis']\n",
    "\n",
    "# No scaling needed due to binary features\n",
    "X_train_acute, X_test_acute, y_train_acute_bl, y_test_acute_bl = train_test_split(X_acute, y_acute_bl, test_size=0.3, random_state=42)\n",
    "X_train_acute, X_test_acute, y_train_acute_neph, y_test_acute_neph = train_test_split(X_acute, y_acute_neph, test_size=0.3, random_state=42)\n"
   ]
  },
  {
   "cell_type": "code",
   "execution_count": 20,
   "metadata": {},
   "outputs": [
    {
     "name": "stdout",
     "output_type": "stream",
     "text": [
      "Cleaned Diagnosis Data:\n",
      "      0  1  2  3  4  5  6  7\n",
      "0  35.5  0  1  0  0  0  0  0\n",
      "1  35.9  0  0  1  1  1  1  0\n",
      "2  35.9  0  1  0  0  0  0  0\n",
      "3  36.0  0  0  1  1  1  1  0\n",
      "4  36.0  0  1  0  0  0  0  0\n",
      "Diagnosis Data Preview:\n",
      "      0  1  2  3  4  5  6  7\n",
      "0  35.5  0  1  0  0  0  0  0\n",
      "1  35.9  0  0  1  1  1  1  0\n",
      "2  35.9  0  1  0  0  0  0  0\n",
      "3  36.0  0  0  1  1  1  1  0\n",
      "4  36.0  0  1  0  0  0  0  0\n",
      "\n",
      "Exasens Data Preview:\n",
      "  Diagnosis     ID Imaginary Part    Unnamed: 3 Real Part    Unnamed: 5  \\\n",
      "0       NaN    NaN            NaN           NaN       NaN           NaN   \n",
      "1       NaN    NaN           Min          Avg.       Min          Avg.    \n",
      "2      COPD  301-4        -320.61  -300.5635307   -495.26  -464.1719907   \n",
      "3      COPD  302-3        -325.39  -314.7503595   -473.73  -469.2631404   \n",
      "4      COPD  303-3           -323  -317.4360556   -476.12  -471.8976667   \n",
      "\n",
      "   Gender   Age  Smoking  Unnamed: 9  Unnamed: 10 Unnamed: 11      Unnamed: 12  \n",
      "0     NaN   NaN      NaN         NaN          NaN         NaN              NaN  \n",
      "1     NaN   NaN      NaN         NaN          NaN     Gender           Somking  \n",
      "2     1.0  77.0      2.0         NaN          NaN      Male=1     Non-smoker=1  \n",
      "3     0.0  72.0      2.0         NaN          NaN    Female=0      Ex-smoker=2  \n",
      "4     1.0  73.0      3.0         NaN          NaN         NaN  Active-smoker=3  \n"
     ]
    },
    {
     "name": "stderr",
     "output_type": "stream",
     "text": [
      "C:\\Users\\phang\\AppData\\Local\\Temp\\ipykernel_41968\\4211386538.py:17: FutureWarning: DataFrame.applymap has been deprecated. Use DataFrame.map instead.\n",
      "  diagnosis_df = diagnosis_df.applymap(lambda x: 1 if x == 'yes' else (0 if x == 'no' else x))\n"
     ]
    }
   ],
   "source": [
    "#checking the datasets \n",
    "import pandas as pd\n",
    "\n",
    "# Load and fix Diagnosis Data\n",
    "diagnosis_path = r'C:\\Platform_bases_computing\\Final_project\\diagnosis.data'\n",
    "exasens_path = r'C:\\Platform_bases_computing\\Final_project\\Exasens.csv'\n",
    "\n",
    "try:\n",
    "    # Specify UTF-16 encoding to handle ÿþ characters\n",
    "    diagnosis_df = pd.read_csv(diagnosis_path, sep='\\t', header=None, encoding='utf-16')\n",
    "    exasens_df = pd.read_csv(exasens_path, encoding='ISO-8859-1')\n",
    "    \n",
    "    # Replace commas with dots and convert to numeric\n",
    "    diagnosis_df[0] = diagnosis_df[0].str.replace(',', '.').astype(float)\n",
    "\n",
    "# Convert 'yes'/'no' to binary values (1/0)\n",
    "    diagnosis_df = diagnosis_df.applymap(lambda x: 1 if x == 'yes' else (0 if x == 'no' else x))\n",
    "\n",
    "    print(\"Cleaned Diagnosis Data:\")\n",
    "    print(diagnosis_df.head())\n",
    "\n",
    "    print(\"Diagnosis Data Preview:\")\n",
    "    print(diagnosis_df.head())\n",
    "    \n",
    "    print(\"\\nExasens Data Preview:\")\n",
    "    print(exasens_df.head())\n",
    "    \n",
    "except Exception as e:\n",
    "    print(f\"An error occurred: {e}\")\n"
   ]
  },
  {
   "cell_type": "code",
   "execution_count": 21,
   "metadata": {},
   "outputs": [
    {
     "name": "stdout",
     "output_type": "stream",
     "text": [
      "Cleaned Exasens Data:\n",
      "  Diagnosis     ID Imaginary_Min Imaginary_Avg Real_Min      Real_Avg  Gender  \\\n",
      "1       NaN    NaN          Min          Avg.      Min          Avg.      NaN   \n",
      "2      COPD  301-4       -320.61  -300.5635307  -495.26  -464.1719907     1.0   \n",
      "3      COPD  302-3       -325.39  -314.7503595  -473.73  -469.2631404     0.0   \n",
      "4      COPD  303-3          -323  -317.4360556  -476.12  -471.8976667     1.0   \n",
      "5      COPD  304-4       -327.78  -317.3996698  -473.73   -468.856388     1.0   \n",
      "\n",
      "    Age  Smoking  \n",
      "1   NaN      NaN  \n",
      "2  77.0      2.0  \n",
      "3  72.0      2.0  \n",
      "4  73.0      3.0  \n",
      "5  76.0      2.0  \n"
     ]
    }
   ],
   "source": [
    "# Drop empty rows and rows containing header-like data\n",
    "exasens_df.dropna(how='all', inplace=True)\n",
    "exasens_df = exasens_df[~exasens_df['ID'].isin(['Min', 'Avg.'])]\n",
    "\n",
    "# Rename columns for clarity\n",
    "exasens_df.columns = ['Diagnosis', 'ID', 'Imaginary_Min', 'Imaginary_Avg', \n",
    "                      'Real_Min', 'Real_Avg', 'Gender', 'Age', 'Smoking', \n",
    "                      'Unnamed_9', 'Unnamed_10', 'Unnamed_11', 'Unnamed_12']\n",
    "\n",
    "# Drop unnecessary columns\n",
    "exasens_df.drop(columns=['Unnamed_9', 'Unnamed_10', 'Unnamed_11', 'Unnamed_12'], inplace=True)\n",
    "\n",
    "# Convert Gender and Smoking to appropriate numerical values\n",
    "exasens_df['Gender'] = exasens_df['Gender'].replace({'Male=1': 1, 'Female=0': 0}).astype(float)\n",
    "exasens_df['Smoking'] = exasens_df['Smoking'].replace({'Non-smoker=1': 1, 'Ex-smoker=2': 2, 'Active-smoker=3': 3}).astype(float)\n",
    "\n",
    "# Display the cleaned Exasens Data\n",
    "print(\"Cleaned Exasens Data:\")\n",
    "print(exasens_df.head())\n"
   ]
  },
  {
   "cell_type": "code",
   "execution_count": null,
   "metadata": {},
   "outputs": [
    {
     "ename": "NameError",
     "evalue": "name 'X' is not defined",
     "output_type": "error",
     "traceback": [
      "\u001b[1;31m---------------------------------------------------------------------------\u001b[0m",
      "\u001b[1;31mNameError\u001b[0m                                 Traceback (most recent call last)",
      "Cell \u001b[1;32mIn[23], line 5\u001b[0m\n\u001b[0;32m      1\u001b[0m \u001b[38;5;66;03m#Model training \u001b[39;00m\n\u001b[0;32m      3\u001b[0m \u001b[38;5;28;01mfrom\u001b[39;00m \u001b[38;5;21;01msklearn\u001b[39;00m\u001b[38;5;21;01m.\u001b[39;00m\u001b[38;5;21;01mmodel_selection\u001b[39;00m \u001b[38;5;28;01mimport\u001b[39;00m train_test_split\n\u001b[1;32m----> 5\u001b[0m X_train, X_test, y_train, y_test \u001b[38;5;241m=\u001b[39m train_test_split(\u001b[43mX\u001b[49m, y, test_size\u001b[38;5;241m=\u001b[39m\u001b[38;5;241m0.3\u001b[39m, random_state\u001b[38;5;241m=\u001b[39m\u001b[38;5;241m42\u001b[39m)\n\u001b[0;32m      7\u001b[0m \u001b[38;5;28;01mfrom\u001b[39;00m \u001b[38;5;21;01msklearn\u001b[39;00m\u001b[38;5;21;01m.\u001b[39;00m\u001b[38;5;21;01mlinear_model\u001b[39;00m \u001b[38;5;28;01mimport\u001b[39;00m LogisticRegression\n\u001b[0;32m      8\u001b[0m \u001b[38;5;28;01mfrom\u001b[39;00m \u001b[38;5;21;01msklearn\u001b[39;00m\u001b[38;5;21;01m.\u001b[39;00m\u001b[38;5;21;01mmetrics\u001b[39;00m \u001b[38;5;28;01mimport\u001b[39;00m accuracy_score, classification_report\n",
      "\u001b[1;31mNameError\u001b[0m: name 'X' is not defined"
     ]
    }
   ],
   "source": [
    "#Model training \n",
    "from tensorflow.keras.layers import Input, Dense\n",
    "from tensorflow.keras.models import Model\n",
    "\n",
    "# Input for Diagnosis data\n",
    "input_diag = Input(shape=(diagnosis_df.shape[1],))\n",
    "\n",
    "# Input for Exasens data\n",
    "input_exasens = Input(shape=(exasens_df.shape[1],))\n",
    "\n",
    "# Define a simple model that processes the inputs separately\n",
    "x1 = Dense(64, activation='relu')(input_diag)\n",
    "x2 = Dense(64, activation='relu')(input_exasens)\n",
    "\n",
    "# Combine the outputs from both inputs (if necessary)\n",
    "combined = concatenate([x1, x2])\n",
    "\n",
    "# Further layers and output\n",
    "output = Dense(1, activation='sigmoid')(combined)\n",
    "\n",
    "model = Model(inputs=[input_diag, input_exasens], outputs=output)\n",
    "\n",
    "\n",
    "# Feature engineering on Diagnosis Data\n",
    "X_diag = diagnosis_df.drop(columns=['Diagnosis'])\n",
    "\n",
    "# Feature engineering on Exasens Data\n",
    "X_exasens = exasens_df.drop(columns=['Diagnosis', 'ID'])\n",
    "\n"
   ]
  }
 ],
 "metadata": {
  "kernelspec": {
   "display_name": "Python 3",
   "language": "python",
   "name": "python3"
  },
  "language_info": {
   "codemirror_mode": {
    "name": "ipython",
    "version": 3
   },
   "file_extension": ".py",
   "mimetype": "text/x-python",
   "name": "python",
   "nbconvert_exporter": "python",
   "pygments_lexer": "ipython3",
   "version": "3.13.0"
  }
 },
 "nbformat": 4,
 "nbformat_minor": 2
}
