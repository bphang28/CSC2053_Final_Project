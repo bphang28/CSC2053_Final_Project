{
 "cells": [
  {
   "cell_type": "code",
   "execution_count": 6,
   "metadata": {},
   "outputs": [
    {
     "name": "stderr",
     "output_type": "stream",
     "text": [
      "<>:6: SyntaxWarning: invalid escape sequence '\\P'\n",
      "<>:6: SyntaxWarning: invalid escape sequence '\\P'\n",
      "C:\\Users\\phang\\AppData\\Local\\Temp\\ipykernel_15624\\2906618348.py:6: SyntaxWarning: invalid escape sequence '\\P'\n",
      "  exasens_path = 'C:\\Platform_bases_computing\\Final_project\\Exasens.csv'  # Replace with your file path\n",
      "c:\\Users\\phang\\AppData\\Local\\Programs\\Python\\Python313\\Lib\\site-packages\\sklearn\\utils\\extmath.py:1137: RuntimeWarning: invalid value encountered in divide\n",
      "  updated_mean = (last_sum + new_sum) / updated_sample_count\n",
      "c:\\Users\\phang\\AppData\\Local\\Programs\\Python\\Python313\\Lib\\site-packages\\sklearn\\utils\\extmath.py:1142: RuntimeWarning: invalid value encountered in divide\n",
      "  T = new_sum / new_sample_count\n",
      "c:\\Users\\phang\\AppData\\Local\\Programs\\Python\\Python313\\Lib\\site-packages\\sklearn\\utils\\extmath.py:1162: RuntimeWarning: invalid value encountered in divide\n",
      "  new_unnormalized_variance -= correction**2 / new_sample_count\n"
     ]
    }
   ],
   "source": [
    "import pandas as pd\n",
    "from sklearn.preprocessing import StandardScaler, LabelEncoder\n",
    "from sklearn.model_selection import train_test_split\n",
    "\n",
    "# Load dataset\n",
    "exasens_path = 'C:\\Platform_bases_computing\\Final_project\\Exasens.csv'  # Replace with your file path\n",
    "exasens_df = pd.read_csv(exasens_path)\n",
    "\n",
    "# Select only numeric columns and fill missing values with their mean\n",
    "numeric_cols = exasens_df.select_dtypes(include=['float64', 'int64']).columns\n",
    "exasens_df[numeric_cols] = exasens_df[numeric_cols].fillna(exasens_df[numeric_cols].mean())\n",
    "\n",
    "# Alternatively, drop rows with missing values\n",
    "# exasens_df.dropna(inplace=True)\n",
    "\n",
    "\n",
    "# Encode categorical disease labels\n",
    "label_encoder = LabelEncoder()\n",
    "exasens_df['Diagnosis'] = label_encoder.fit_transform(exasens_df['Diagnosis'])\n",
    "\n",
    "# Normalize numerical features\n",
    "scaler = StandardScaler()\n",
    "numerical_cols = exasens_df.select_dtypes(include=['float64', 'int64']).columns\n",
    "exasens_df[numerical_cols] = scaler.fit_transform(exasens_df[numerical_cols])\n",
    "\n",
    "# Split into features and target\n",
    "X_exasens = exasens_df.drop('Diagnosis', axis=1)\n",
    "y_exasens = exasens_df['Diagnosis']\n",
    "\n",
    "# Train-test split\n",
    "X_train_exasens, X_test_exasens, y_train_exasens, y_test_exasens = train_test_split(X_exasens, y_exasens, test_size=0.3, random_state=42)\n"
   ]
  },
  {
   "cell_type": "code",
   "execution_count": null,
   "metadata": {},
   "outputs": [
    {
     "name": "stderr",
     "output_type": "stream",
     "text": [
      "<>:1: SyntaxWarning: invalid escape sequence '\\P'\n",
      "<>:1: SyntaxWarning: invalid escape sequence '\\P'\n",
      "C:\\Users\\phang\\AppData\\Local\\Temp\\ipykernel_15624\\2519445542.py:1: SyntaxWarning: invalid escape sequence '\\P'\n",
      "  acute_path = 'C:\\Platform_bases_computing\\Final_project\\diagnosis.data'  # Make sure the path is correct\n"
     ]
    }
   ],
   "source": [
    "# Loading the dataset\n",
    "\n",
    "acute_path = 'C:\\Platform_bases_computing\\Final_project\\diagnosis.data' \n",
    "acute_df = pd.read_csv(acute_path, sep='\\t', header=None, encoding='ISO-8859-1') \n",
    "\n",
    "# Assign meaningful column names if necessary\n",
    "acute_df.columns = ['temperature', 'nausea', 'lumbar_pain', 'urine_pushing', 'micturition_pains', 'burning_urethra', 'bladder_inflammation', 'nephritis']\n",
    "\n",
    "# Encode yes/no values to 1/0\n",
    "for col in ['nausea', 'lumbar_pain', 'urine_pushing', 'micturition_pains', 'burning_urethra', 'bladder_inflammation', 'nephritis']:\n",
    "    acute_df[col] = acute_df[col].map({'yes': 1, 'no': 0})\n",
    "\n",
    "# Split into features and targets\n",
    "X_acute = acute_df.drop(['bladder_inflammation', 'nephritis'], axis=1)\n",
    "y_acute_bl = acute_df['bladder_inflammation']\n",
    "y_acute_neph = acute_df['nephritis']\n",
    "\n",
    "# No scaling needed due to binary features\n",
    "X_train_acute, X_test_acute, y_train_acute_bl, y_test_acute_bl = train_test_split(X_acute, y_acute_bl, test_size=0.3, random_state=42)\n",
    "X_train_acute, X_test_acute, y_train_acute_neph, y_test_acute_neph = train_test_split(X_acute, y_acute_neph, test_size=0.3, random_state=42)\n"
   ]
  }
 ],
 "metadata": {
  "kernelspec": {
   "display_name": "Python 3",
   "language": "python",
   "name": "python3"
  },
  "language_info": {
   "codemirror_mode": {
    "name": "ipython",
    "version": 3
   },
   "file_extension": ".py",
   "mimetype": "text/x-python",
   "name": "python",
   "nbconvert_exporter": "python",
   "pygments_lexer": "ipython3",
   "version": "3.13.0"
  }
 },
 "nbformat": 4,
 "nbformat_minor": 2
}
